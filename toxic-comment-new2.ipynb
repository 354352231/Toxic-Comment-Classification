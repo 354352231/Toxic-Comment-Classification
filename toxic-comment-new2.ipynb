{
 "cells": [
  {
   "cell_type": "code",
   "execution_count": 31,
   "id": "910d3247",
   "metadata": {},
   "outputs": [],
   "source": [
    "import pandas as pd\n",
    "import numpy as np\n",
    "import time\n",
    "import matplotlib.pyplot as plt\n",
    "import zipfile"
   ]
  },
  {
   "cell_type": "code",
   "execution_count": 32,
   "id": "2f6d3302",
   "metadata": {},
   "outputs": [],
   "source": [
    "parent = 'jigsaw-toxic-comment-classification-challenge/'\n",
    "train_name = 'train.csv'\n",
    "test_name = 'test.csv'\n",
    "test_lb_name = 'test_labels.csv'\n",
    "\n",
    "def read_zip_csv(parent, filename):\n",
    "    zf = zipfile.ZipFile(parent+filename+'.zip')\n",
    "    return pd.read_csv(zf.open(filename))\n",
    "\n",
    "train_df = read_zip_csv(parent, train_name)\n",
    "test_df = read_zip_csv(parent, test_name)\n",
    "test_lb_df = read_zip_csv(parent, test_lb_name)"
   ]
  },
  {
   "cell_type": "code",
   "execution_count": 33,
   "id": "b80cfbe1",
   "metadata": {},
   "outputs": [
    {
     "name": "stdout",
     "output_type": "stream",
     "text": [
      "(159571, 8)\n",
      "(153164, 2)\n",
      "(153164, 7)\n"
     ]
    }
   ],
   "source": [
    "print(train_df.shape)\n",
    "print(test_df.shape)\n",
    "print(test_lb_df.shape)"
   ]
  },
  {
   "cell_type": "code",
   "execution_count": 34,
   "id": "04508d46",
   "metadata": {
    "scrolled": true
   },
   "outputs": [
    {
     "data": {
      "text/html": [
       "<div>\n",
       "<style scoped>\n",
       "    .dataframe tbody tr th:only-of-type {\n",
       "        vertical-align: middle;\n",
       "    }\n",
       "\n",
       "    .dataframe tbody tr th {\n",
       "        vertical-align: top;\n",
       "    }\n",
       "\n",
       "    .dataframe thead th {\n",
       "        text-align: right;\n",
       "    }\n",
       "</style>\n",
       "<table border=\"1\" class=\"dataframe\">\n",
       "  <thead>\n",
       "    <tr style=\"text-align: right;\">\n",
       "      <th></th>\n",
       "      <th>id</th>\n",
       "      <th>comment_text</th>\n",
       "      <th>toxic</th>\n",
       "      <th>severe_toxic</th>\n",
       "      <th>obscene</th>\n",
       "      <th>threat</th>\n",
       "      <th>insult</th>\n",
       "      <th>identity_hate</th>\n",
       "    </tr>\n",
       "  </thead>\n",
       "  <tbody>\n",
       "    <tr>\n",
       "      <th>0</th>\n",
       "      <td>0000997932d777bf</td>\n",
       "      <td>Explanation\\nWhy the edits made under my usern...</td>\n",
       "      <td>0</td>\n",
       "      <td>0</td>\n",
       "      <td>0</td>\n",
       "      <td>0</td>\n",
       "      <td>0</td>\n",
       "      <td>0</td>\n",
       "    </tr>\n",
       "    <tr>\n",
       "      <th>1</th>\n",
       "      <td>000103f0d9cfb60f</td>\n",
       "      <td>D'aww! He matches this background colour I'm s...</td>\n",
       "      <td>0</td>\n",
       "      <td>0</td>\n",
       "      <td>0</td>\n",
       "      <td>0</td>\n",
       "      <td>0</td>\n",
       "      <td>0</td>\n",
       "    </tr>\n",
       "    <tr>\n",
       "      <th>2</th>\n",
       "      <td>000113f07ec002fd</td>\n",
       "      <td>Hey man, I'm really not trying to edit war. It...</td>\n",
       "      <td>0</td>\n",
       "      <td>0</td>\n",
       "      <td>0</td>\n",
       "      <td>0</td>\n",
       "      <td>0</td>\n",
       "      <td>0</td>\n",
       "    </tr>\n",
       "    <tr>\n",
       "      <th>3</th>\n",
       "      <td>0001b41b1c6bb37e</td>\n",
       "      <td>\"\\nMore\\nI can't make any real suggestions on ...</td>\n",
       "      <td>0</td>\n",
       "      <td>0</td>\n",
       "      <td>0</td>\n",
       "      <td>0</td>\n",
       "      <td>0</td>\n",
       "      <td>0</td>\n",
       "    </tr>\n",
       "    <tr>\n",
       "      <th>4</th>\n",
       "      <td>0001d958c54c6e35</td>\n",
       "      <td>You, sir, are my hero. Any chance you remember...</td>\n",
       "      <td>0</td>\n",
       "      <td>0</td>\n",
       "      <td>0</td>\n",
       "      <td>0</td>\n",
       "      <td>0</td>\n",
       "      <td>0</td>\n",
       "    </tr>\n",
       "  </tbody>\n",
       "</table>\n",
       "</div>"
      ],
      "text/plain": [
       "                 id                                       comment_text  toxic  \\\n",
       "0  0000997932d777bf  Explanation\\nWhy the edits made under my usern...      0   \n",
       "1  000103f0d9cfb60f  D'aww! He matches this background colour I'm s...      0   \n",
       "2  000113f07ec002fd  Hey man, I'm really not trying to edit war. It...      0   \n",
       "3  0001b41b1c6bb37e  \"\\nMore\\nI can't make any real suggestions on ...      0   \n",
       "4  0001d958c54c6e35  You, sir, are my hero. Any chance you remember...      0   \n",
       "\n",
       "   severe_toxic  obscene  threat  insult  identity_hate  \n",
       "0             0        0       0       0              0  \n",
       "1             0        0       0       0              0  \n",
       "2             0        0       0       0              0  \n",
       "3             0        0       0       0              0  \n",
       "4             0        0       0       0              0  "
      ]
     },
     "execution_count": 34,
     "metadata": {},
     "output_type": "execute_result"
    }
   ],
   "source": [
    "train_df.head()"
   ]
  },
  {
   "cell_type": "code",
   "execution_count": 35,
   "id": "aa3cfe8b",
   "metadata": {},
   "outputs": [
    {
     "name": "stdout",
     "output_type": "stream",
     "text": [
      "<class 'pandas.core.frame.DataFrame'>\n",
      "RangeIndex: 159571 entries, 0 to 159570\n",
      "Data columns (total 8 columns):\n",
      " #   Column         Non-Null Count   Dtype \n",
      "---  ------         --------------   ----- \n",
      " 0   id             159571 non-null  object\n",
      " 1   comment_text   159571 non-null  object\n",
      " 2   toxic          159571 non-null  int64 \n",
      " 3   severe_toxic   159571 non-null  int64 \n",
      " 4   obscene        159571 non-null  int64 \n",
      " 5   threat         159571 non-null  int64 \n",
      " 6   insult         159571 non-null  int64 \n",
      " 7   identity_hate  159571 non-null  int64 \n",
      "dtypes: int64(6), object(2)\n",
      "memory usage: 9.7+ MB\n"
     ]
    }
   ],
   "source": [
    "train_df.info()"
   ]
  },
  {
   "cell_type": "code",
   "execution_count": 38,
   "id": "8b7f10ae",
   "metadata": {},
   "outputs": [
    {
     "data": {
      "text/plain": [
       "0"
      ]
     },
     "execution_count": 38,
     "metadata": {},
     "output_type": "execute_result"
    }
   ],
   "source": [
    "train_df.isna().any().sum()"
   ]
  },
  {
   "cell_type": "code",
   "execution_count": 39,
   "id": "4e5ce700",
   "metadata": {},
   "outputs": [
    {
     "data": {
      "text/html": [
       "<div>\n",
       "<style scoped>\n",
       "    .dataframe tbody tr th:only-of-type {\n",
       "        vertical-align: middle;\n",
       "    }\n",
       "\n",
       "    .dataframe tbody tr th {\n",
       "        vertical-align: top;\n",
       "    }\n",
       "\n",
       "    .dataframe thead th {\n",
       "        text-align: right;\n",
       "    }\n",
       "</style>\n",
       "<table border=\"1\" class=\"dataframe\">\n",
       "  <thead>\n",
       "    <tr style=\"text-align: right;\">\n",
       "      <th></th>\n",
       "      <th>label</th>\n",
       "      <th>proportion of label=1</th>\n",
       "    </tr>\n",
       "  </thead>\n",
       "  <tbody>\n",
       "    <tr>\n",
       "      <th>0</th>\n",
       "      <td>toxic</td>\n",
       "      <td>0.10</td>\n",
       "    </tr>\n",
       "    <tr>\n",
       "      <th>1</th>\n",
       "      <td>severe_toxic</td>\n",
       "      <td>0.01</td>\n",
       "    </tr>\n",
       "    <tr>\n",
       "      <th>2</th>\n",
       "      <td>obscene</td>\n",
       "      <td>0.05</td>\n",
       "    </tr>\n",
       "    <tr>\n",
       "      <th>3</th>\n",
       "      <td>threat</td>\n",
       "      <td>0.00</td>\n",
       "    </tr>\n",
       "    <tr>\n",
       "      <th>4</th>\n",
       "      <td>insult</td>\n",
       "      <td>0.05</td>\n",
       "    </tr>\n",
       "    <tr>\n",
       "      <th>5</th>\n",
       "      <td>identity_hate</td>\n",
       "      <td>0.01</td>\n",
       "    </tr>\n",
       "  </tbody>\n",
       "</table>\n",
       "</div>"
      ],
      "text/plain": [
       "           label  proportion of label=1\n",
       "0          toxic                   0.10\n",
       "1   severe_toxic                   0.01\n",
       "2        obscene                   0.05\n",
       "3         threat                   0.00\n",
       "4         insult                   0.05\n",
       "5  identity_hate                   0.01"
      ]
     },
     "execution_count": 39,
     "metadata": {},
     "output_type": "execute_result"
    }
   ],
   "source": [
    "# binary distribution in each class\n",
    "labels = ['toxic', 'severe_toxic', 'obscene', 'threat', 'insult', 'identity_hate']\n",
    "proportions = []\n",
    "for label in labels:\n",
    "    proportion = np.round(sum(train_df[label]==1)/len(train_df), 2)\n",
    "    proportions.append(proportion)\n",
    "pd.DataFrame(list(zip(labels, proportions))).rename(columns={0:'label', 1:'proportion of label=1'})"
   ]
  },
  {
   "cell_type": "code",
   "execution_count": 40,
   "id": "b1b9416b",
   "metadata": {},
   "outputs": [
    {
     "data": {
      "text/plain": [
       "<AxesSubplot:title={'center':'Labels Count'}>"
      ]
     },
     "execution_count": 40,
     "metadata": {},
     "output_type": "execute_result"
    },
    {
     "data": {
      "image/png": "[encoded data removed]",
      "text/plain": [
       "<Figure size 432x288 with 1 Axes>"
      ]
     },
     "metadata": {
      "needs_background": "light"
     },
     "output_type": "display_data"
    }
   ],
   "source": [
    "label_count = train_df[labels].sum()\n",
    "label_count.plot(kind='bar', title='Labels Count')"
   ]
  },
  {
   "cell_type": "code",
   "execution_count": 41,
   "id": "e961679e",
   "metadata": {},
   "outputs": [
    {
     "data": {
      "text/plain": [
       "id               False\n",
       "comment_text     False\n",
       "toxic            False\n",
       "severe_toxic     False\n",
       "obscene          False\n",
       "threat           False\n",
       "insult           False\n",
       "identity_hate    False\n",
       "dtype: bool"
      ]
     },
     "execution_count": 41,
     "metadata": {},
     "output_type": "execute_result"
    }
   ],
   "source": [
    "# null values\n",
    "train_df.isnull().any()"
   ]
  },
  {
   "cell_type": "code",
   "execution_count": 42,
   "id": "a08d122c",
   "metadata": {},
   "outputs": [
    {
     "data": {
      "text/plain": [
       "<AxesSubplot:title={'center':'Correlation of labels'}>"
      ]
     },
     "execution_count": 42,
     "metadata": {},
     "output_type": "execute_result"
    },
    {
     "data": {
      "image/png": "[encoded data removed]",
      "text/plain": [
       "<Figure size 432x288 with 2 Axes>"
      ]
     },
     "metadata": {
      "needs_background": "light"
     },
     "output_type": "display_data"
    }
   ],
   "source": [
    "import seaborn as sns\n",
    "\n",
    "colormap = plt.cm.plasma\n",
    "plt.title('Correlation of labels',y=1.05,size=14)\n",
    "sns.heatmap(train_df[labels].astype(float).corr(),linewidths=0.1,vmax=1.0,square=True,cmap=colormap,\n",
    "           linecolor='white',annot=True)"
   ]
  },
  {
   "cell_type": "code",
   "execution_count": 58,
   "id": "6080f0d6",
   "metadata": {},
   "outputs": [],
   "source": [
    "import nltk\n",
    "from nltk.corpus import stopwords"
   ]
  },
  {
   "cell_type": "code",
   "execution_count": 59,
   "id": "13304dea",
   "metadata": {},
   "outputs": [],
   "source": [
    "#https://www.kaggle.com/gpreda/jigsaw-fast-compact-solution\n",
    "def preprocess(data):\n",
    "    '''This function removes punct, stop words and lower cased the words'''\n",
    "    punct = \"/-'?!.,#$%\\'()*+-/:;<=>@[\\\\]^_`{|}~`\" + '\"\"“”’' + '∞θ÷α•à−β∅³π‘₹´°\\\n",
    "£€\\×™√²—–&'\n",
    "    punct += '©^®` <→°€™› ♥←×§″′Â█½à…“★”–●â►−¢²¬░¶↑±¿▾═¦║―¥▓—‹─▒：¼⊕▼▪†■’▀¨▄♫☆é¯♦¤▲è¸¾Ã⋅‘∞∙）↓、│\\\n",
    "    （»，♪╩╚³・╦╣╔╗▬❤ïØ¹≤‡√'\n",
    "    def clean_special_chars(text, punct):\n",
    "        for p in punct:\n",
    "            text = text.replace(p, ' ')\n",
    "        return text\n",
    "\n",
    "    data = clean_special_chars(str(data), punct)\n",
    "    data = data.split()\n",
    "    stop_words = set(stopwords.words('english'))\n",
    "    cleaned = [word.lower() for word in data if word not in stop_words]\n",
    "    return \" \".join(cleaned)"
   ]
  },
  {
   "cell_type": "code",
   "execution_count": 60,
   "id": "5a42f982",
   "metadata": {},
   "outputs": [],
   "source": [
    "train_df['char_length'] = train_df['comment_text'].apply(len)\n",
    "train_df['comment_text'] = train_df['comment_text'].apply(preprocess).astype(str)"
   ]
  },
  {
   "cell_type": "code",
   "execution_count": 57,
   "id": "0f8964f6",
   "metadata": {},
   "outputs": [
    {
     "data": {
      "image/png": "[encoded data removed]",
      "text/plain": [
       "<Figure size 576x720 with 1 Axes>"
      ]
     },
     "metadata": {
      "needs_background": "light"
     },
     "output_type": "display_data"
    },
    {
     "data": {
      "image/png": "[encoded data removed]",
      "text/plain": [
       "<Figure size 576x720 with 1 Axes>"
      ]
     },
     "metadata": {
      "needs_background": "light"
     },
     "output_type": "display_data"
    },
    {
     "data": {
      "image/png": "[encoded data removed]",
      "text/plain": [
       "<Figure size 576x720 with 1 Axes>"
      ]
     },
     "metadata": {
      "needs_background": "light"
     },
     "output_type": "display_data"
    },
    {
     "data": {
      "image/png": "[encoded data removed]",
      "text/plain": [
       "<Figure size 576x720 with 1 Axes>"
      ]
     },
     "metadata": {
      "needs_background": "light"
     },
     "output_type": "display_data"
    },
    {
     "data": {
      "image/png": "[encoded data removed]",
      "text/plain": [
       "<Figure size 576x720 with 1 Axes>"
      ]
     },
     "metadata": {
      "needs_background": "light"
     },
     "output_type": "display_data"
    },
    {
     "data": {
      "image/png": "[encoded data removed]",
      "text/plain": [
       "<Figure size 576x720 with 1 Axes>"
      ]
     },
     "metadata": {
      "needs_background": "light"
     },
     "output_type": "display_data"
    }
   ],
   "source": [
    "# is char_length related to targets\n",
    "# Boxplot of Column per Positive / Negative class Value\n",
    "for l in labels:\n",
    "    fig = plt.figure(figsize=(8,10))\n",
    "    sns.boxplot(x=l, y='char_length', data=train_df, ax=plt.subplot(224));\n",
    "    plt.xlabel('Positive or Negative', fontsize=14);\n",
    "    plt.ylabel(l, fontsize=14);"
   ]
  },
  {
   "cell_type": "code",
   "execution_count": 65,
   "id": "51b857b2",
   "metadata": {},
   "outputs": [
    {
     "data": {
      "image/png": "[encoded data removed]",
      "text/plain": [
       "<Figure size 576x360 with 1 Axes>"
      ]
     },
     "metadata": {
      "needs_background": "light"
     },
     "output_type": "display_data"
    },
    {
     "data": {
      "image/png": "[encoded data removed]",
      "text/plain": [
       "<Figure size 576x360 with 1 Axes>"
      ]
     },
     "metadata": {
      "needs_background": "light"
     },
     "output_type": "display_data"
    },
    {
     "data": {
      "image/png": "[encoded data removed]",
      "text/plain": [
       "<Figure size 576x360 with 1 Axes>"
      ]
     },
     "metadata": {
      "needs_background": "light"
     },
     "output_type": "display_data"
    },
    {
     "data": {
      "image/png": "[encoded data removed]",
      "text/plain": [
       "<Figure size 576x360 with 1 Axes>"
      ]
     },
     "metadata": {
      "needs_background": "light"
     },
     "output_type": "display_data"
    },
    {
     "data": {
      "image/png": "[encoded data removed]",
      "text/plain": [
       "<Figure size 576x360 with 1 Axes>"
      ]
     },
     "metadata": {
      "needs_background": "light"
     },
     "output_type": "display_data"
    },
    {
     "data": {
      "image/png": "[encoded data removed]",
      "text/plain": [
       "<Figure size 576x360 with 1 Axes>"
      ]
     },
     "metadata": {
      "needs_background": "light"
     },
     "output_type": "display_data"
    }
   ],
   "source": [
    "for label in labels:\n",
    "    fig = plt.figure(figsize=(8,5))\n",
    "    plt.hist(train_df[train_df[label]==1].char_length, alpha=.8, label=f'{label}=1', edgecolor='blue')\n",
    "    plt.hist(train_df[train_df[label]==0].char_length, alpha=.6, label=f'{label}=0', edgecolor='yellow')\n",
    "    plt.legend()\n",
    "    plt.show()\n"
   ]
  },
  {
   "cell_type": "code",
   "execution_count": 23,
   "id": "9252e214",
   "metadata": {},
   "outputs": [
    {
     "data": {
      "text/plain": [
       "Text(0.5, 1.0, 'char length of comments')"
      ]
     },
     "execution_count": 23,
     "metadata": {},
     "output_type": "execute_result"
    },
    {
     "data": {
      "image/png": "[encoded data removed]",
      "text/plain": [
       "<Figure size 432x288 with 1 Axes>"
      ]
     },
     "metadata": {
      "needs_background": "light"
     },
     "output_type": "display_data"
    }
   ],
   "source": [
    "train_df.char_length.hist(bins=50)\n",
    "plt.title(\"char length of comments\")"
   ]
  },
  {
   "cell_type": "code",
   "execution_count": 72,
   "id": "b2763ba8",
   "metadata": {},
   "outputs": [
    {
     "data": {
      "text/plain": [
       "count    159571.000000\n",
       "mean        394.073221\n",
       "std         590.720282\n",
       "min           6.000000\n",
       "25%          96.000000\n",
       "50%         205.000000\n",
       "75%         435.000000\n",
       "max        5000.000000\n",
       "Name: char_length, dtype: float64"
      ]
     },
     "execution_count": 72,
     "metadata": {},
     "output_type": "execute_result"
    }
   ],
   "source": [
    "train_df.char_length.describe()"
   ]
  },
  {
   "cell_type": "code",
   "execution_count": 61,
   "id": "d2fc718b",
   "metadata": {},
   "outputs": [],
   "source": [
    "# TFIDF Vectorizer\n",
    "from sklearn.feature_extraction.text import TfidfVectorizer\n",
    "from scipy import sparse\n",
    "def Tfidf_Vect(df, word_max_feat=20000, char_max_feat=40000, word_ng_range=(1,3), char_ng_range=(3,6)):\n",
    "    vect_word = TfidfVectorizer(max_features=word_max_feat, lowercase=True, analyzer='word',\n",
    "                            stop_words= 'english',ngram_range=word_ng_range,dtype=np.float32)\n",
    "\n",
    "    vect_char = TfidfVectorizer(max_features=char_max_feat, lowercase=True, analyzer='char',\n",
    "                            stop_words= 'english',ngram_range=char_ng_range,dtype=np.float32)\n",
    "\n",
    "    wordvect_train = vect_word.fit_transform(df['comment_text'])\n",
    "    charvect_train = vect_char.fit_transform(df['comment_text'])\n",
    "    return sparse.hstack([wordvect_train, charvect_train])"
   ]
  },
  {
   "cell_type": "code",
   "execution_count": 64,
   "id": "21e25b5e",
   "metadata": {},
   "outputs": [
    {
     "name": "stdout",
     "output_type": "stream",
     "text": [
      "CPU times: user 2min 12s, sys: 20 s, total: 2min 32s\n",
      "Wall time: 2min 44s\n"
     ]
    }
   ],
   "source": [
    "%%time\n",
    "vect_df = Tfidf_Vect(train_df)"
   ]
  },
  {
   "cell_type": "code",
   "execution_count": 66,
   "id": "c36821c1",
   "metadata": {},
   "outputs": [],
   "source": [
    "from scipy import sparse\n",
    "%%time\n",
    "sparse.save_npz(\"processed_train.npz\", vect_df)\n",
    "vect_df = sparse.load_npz(\"processed_train.npz\")"
   ]
  },
  {
   "cell_type": "code",
   "execution_count": 75,
   "id": "d4cef325",
   "metadata": {},
   "outputs": [],
   "source": [
    "from sklearn.model_selection import train_test_split\n",
    "X_train, X_test, y_train, y_test = train_test_split(vect_df, \n",
    "                                                    train_df[labels], \n",
    "                                                    test_size=0.25)"
   ]
  },
  {
   "cell_type": "code",
   "execution_count": 82,
   "id": "b281433a",
   "metadata": {},
   "outputs": [],
   "source": [
    "from sklearn.neural_network import MLPClassifier\n",
    "from sklearn.neighbors import KNeighborsClassifier\n",
    "from sklearn.svm import SVC\n",
    "from sklearn.gaussian_process import GaussianProcessClassifier\n",
    "from sklearn.tree import DecisionTreeClassifier\n",
    "from sklearn.ensemble import RandomForestClassifier, GradientBoostingClassifier, IsolationForest\n",
    "from sklearn.naive_bayes import MultinomialNB\n",
    "from sklearn.linear_model import SGDClassifier, LogisticRegression\n",
    "from sklearn.metrics import classification_report, confusion_matrix, make_scorer, balanced_accuracy_score, roc_auc_score, roc_curve, auc\n",
    "from sklearn.model_selection import GridSearchCV\n",
    "import time"
   ]
  },
  {
   "cell_type": "markdown",
   "id": "aeaf4b19",
   "metadata": {},
   "source": [
    "# Reduce Training size"
   ]
  },
  {
   "cell_type": "code",
   "execution_count": 98,
   "id": "2b1ac347",
   "metadata": {
    "scrolled": true
   },
   "outputs": [
    {
     "data": {
      "text/plain": [
       "(159571, 9)"
      ]
     },
     "execution_count": 98,
     "metadata": {},
     "output_type": "execute_result"
    }
   ],
   "source": [
    "train_df.shape"
   ]
  },
  {
   "cell_type": "code",
   "execution_count": 99,
   "id": "b9dfbbb3",
   "metadata": {},
   "outputs": [],
   "source": [
    "t_index = train_df.index\n",
    "random_index = np.random.choice(t_index, 50000)"
   ]
  },
  {
   "cell_type": "code",
   "execution_count": 100,
   "id": "9120741a",
   "metadata": {},
   "outputs": [],
   "source": [
    "reduced_train = train_df.loc[random_index]"
   ]
  },
  {
   "cell_type": "code",
   "execution_count": 106,
   "id": "3a1ec348",
   "metadata": {},
   "outputs": [],
   "source": [
    "# reduced_train.to_csv(\"reduced_processed_data.csv\")"
   ]
  },
  {
   "cell_type": "code",
   "execution_count": 109,
   "id": "666875c5",
   "metadata": {},
   "outputs": [],
   "source": [
    "reduced_train = pd.read_csv(\"reduced_processed_data.csv\").drop(['Unnamed: 0'], axis=1)"
   ]
  },
  {
   "cell_type": "code",
   "execution_count": 104,
   "id": "7990b5ac",
   "metadata": {},
   "outputs": [],
   "source": [
    "reduced_vect_df = Tfidf_Vect(reduced_train)"
   ]
  },
  {
   "cell_type": "code",
   "execution_count": 105,
   "id": "4ae30ce7",
   "metadata": {},
   "outputs": [],
   "source": [
    "X_train, X_test, y_train, y_test = train_test_split(reduced_vect_df, \n",
    "                                                    reduced_train[labels], \n",
    "                                                    test_size=0.25)"
   ]
  },
  {
   "cell_type": "markdown",
   "id": "c3e65db5",
   "metadata": {},
   "source": [
    "# Class weight = 'balanced'"
   ]
  },
  {
   "cell_type": "code",
   "execution_count": 69,
   "id": "3213f414",
   "metadata": {},
   "outputs": [],
   "source": [
    "labels = ['toxic', 'severe_toxic', 'obscene', 'threat', 'insult', 'identity_hate']"
   ]
  },
  {
   "cell_type": "code",
   "execution_count": 110,
   "id": "6ff9da46",
   "metadata": {},
   "outputs": [
    {
     "name": "stdout",
     "output_type": "stream",
     "text": [
      "label: toxic\n",
      "Confusion matrix:\n",
      " [[10882   343]\n",
      " [  221  1054]]\n",
      "Balanced accuracy: 0.8980549368968077\n",
      "AUC score: 0.9746300886501595\n",
      "              precision    recall  f1-score   support\n",
      "\n",
      "           0       0.98      0.97      0.97     11225\n",
      "           1       0.75      0.83      0.79      1275\n",
      "\n",
      "    accuracy                           0.95     12500\n",
      "   macro avg       0.87      0.90      0.88     12500\n",
      "weighted avg       0.96      0.95      0.96     12500\n",
      "\n",
      "label: severe_toxic\n",
      "Confusion matrix:\n",
      " [[12215   160]\n",
      " [   37    88]]\n",
      "Balanced accuracy: 0.8455353535353536\n",
      "AUC score: 0.9829805252525252\n",
      "              precision    recall  f1-score   support\n",
      "\n",
      "           0       1.00      0.99      0.99     12375\n",
      "           1       0.35      0.70      0.47       125\n",
      "\n",
      "    accuracy                           0.98     12500\n",
      "   macro avg       0.68      0.85      0.73     12500\n",
      "weighted avg       0.99      0.98      0.99     12500\n",
      "\n",
      "label: obscene\n",
      "Confusion matrix:\n",
      " [[11636   146]\n",
      " [   91   627]]\n",
      "Balanced accuracy: 0.9304336344236924\n",
      "AUC score: 0.989508215402467\n",
      "              precision    recall  f1-score   support\n",
      "\n",
      "           0       0.99      0.99      0.99     11782\n",
      "           1       0.81      0.87      0.84       718\n",
      "\n",
      "    accuracy                           0.98     12500\n",
      "   macro avg       0.90      0.93      0.92     12500\n",
      "weighted avg       0.98      0.98      0.98     12500\n",
      "\n",
      "label: threat\n",
      "Confusion matrix:\n",
      " [[12435    24]\n",
      " [   22    19]]\n",
      "Balanced accuracy: 0.7307441579111192\n",
      "AUC score: 0.9773990395815347\n",
      "              precision    recall  f1-score   support\n",
      "\n",
      "           0       1.00      1.00      1.00     12459\n",
      "           1       0.44      0.46      0.45        41\n",
      "\n",
      "    accuracy                           1.00     12500\n",
      "   macro avg       0.72      0.73      0.73     12500\n",
      "weighted avg       1.00      1.00      1.00     12500\n",
      "\n",
      "label: insult\n",
      "Confusion matrix:\n",
      " [[11589   227]\n",
      " [  116   568]]\n",
      "Balanced accuracy: 0.9055990588635887\n",
      "AUC score: 0.9797673736077951\n",
      "              precision    recall  f1-score   support\n",
      "\n",
      "           0       0.99      0.98      0.99     11816\n",
      "           1       0.71      0.83      0.77       684\n",
      "\n",
      "    accuracy                           0.97     12500\n",
      "   macro avg       0.85      0.91      0.88     12500\n",
      "weighted avg       0.98      0.97      0.97     12500\n",
      "\n",
      "label: identity_hate\n",
      "Confusion matrix:\n",
      " [[12281   102]\n",
      " [   51    66]]\n",
      "Balanced accuracy: 0.7779327324267968\n",
      "AUC score: 0.9752403867723258\n",
      "              precision    recall  f1-score   support\n",
      "\n",
      "           0       1.00      0.99      0.99     12383\n",
      "           1       0.39      0.56      0.46       117\n",
      "\n",
      "    accuracy                           0.99     12500\n",
      "   macro avg       0.69      0.78      0.73     12500\n",
      "weighted avg       0.99      0.99      0.99     12500\n",
      "\n"
     ]
    }
   ],
   "source": [
    "for i in labels:\n",
    "    lr = LogisticRegression(\n",
    "        C=2, \n",
    "        random_state=42, \n",
    "        class_weight = 'balanced'\n",
    "    )\n",
    "    lr.fit(X_train, y_train[i])\n",
    "    y_pred = lr.predict(X_test)\n",
    "    print(\"label:\", i)\n",
    "    print('Confusion matrix:\\n', confusion_matrix(y_test[i], y_pred))\n",
    "    print(\"Balanced accuracy:\", balanced_accuracy_score(y_test[i], y_pred))\n",
    "    y_pred_pro = lr.predict_proba(X_test)[:,1]\n",
    "    frp, trp, thres = roc_curve(y_test[i], y_pred_pro)\n",
    "    auc_val = auc(frp,trp)\n",
    "    print(\"AUC score:\", auc_val)\n",
    "    print(classification_report(y_test[i], y_pred))"
   ]
  },
  {
   "cell_type": "code",
   "execution_count": 111,
   "id": "c03fcdfc",
   "metadata": {},
   "outputs": [
    {
     "name": "stdout",
     "output_type": "stream",
     "text": [
      "label: toxic\n",
      "Confusion matrix:\n",
      " [[11156    69]\n",
      " [  444   831]]\n",
      "Balanced accuracy: 0.8228088562819337\n",
      "AUC score: 0.9742826848333987\n",
      "              precision    recall  f1-score   support\n",
      "\n",
      "           0       0.96      0.99      0.98     11225\n",
      "           1       0.92      0.65      0.76      1275\n",
      "\n",
      "    accuracy                           0.96     12500\n",
      "   macro avg       0.94      0.82      0.87     12500\n",
      "weighted avg       0.96      0.96      0.96     12500\n",
      "\n",
      "label: severe_toxic\n",
      "Confusion matrix:\n",
      " [[12342    33]\n",
      " [   93    32]]\n",
      "Balanced accuracy: 0.6266666666666667\n",
      "AUC score: 0.9847938585858586\n",
      "              precision    recall  f1-score   support\n",
      "\n",
      "           0       0.99      1.00      0.99     12375\n",
      "           1       0.49      0.26      0.34       125\n",
      "\n",
      "    accuracy                           0.99     12500\n",
      "   macro avg       0.74      0.63      0.67     12500\n",
      "weighted avg       0.99      0.99      0.99     12500\n",
      "\n",
      "label: obscene\n",
      "Confusion matrix:\n",
      " [[11742    40]\n",
      " [  226   492]]\n",
      "Balanced accuracy: 0.8409208797329764\n",
      "AUC score: 0.9901588467181656\n",
      "              precision    recall  f1-score   support\n",
      "\n",
      "           0       0.98      1.00      0.99     11782\n",
      "           1       0.92      0.69      0.79       718\n",
      "\n",
      "    accuracy                           0.98     12500\n",
      "   macro avg       0.95      0.84      0.89     12500\n",
      "weighted avg       0.98      0.98      0.98     12500\n",
      "\n",
      "label: threat\n",
      "Confusion matrix:\n",
      " [[12457     2]\n",
      " [   38     3]]\n",
      "Balanced accuracy: 0.5365051025901543\n",
      "AUC score: 0.9763008032199272\n",
      "              precision    recall  f1-score   support\n",
      "\n",
      "           0       1.00      1.00      1.00     12459\n",
      "           1       0.60      0.07      0.13        41\n",
      "\n",
      "    accuracy                           1.00     12500\n",
      "   macro avg       0.80      0.54      0.56     12500\n",
      "weighted avg       1.00      1.00      1.00     12500\n",
      "\n",
      "label: insult\n",
      "Confusion matrix:\n",
      " [[11770    46]\n",
      " [  283   401]]\n",
      "Balanced accuracy: 0.7911821417683229\n",
      "AUC score: 0.9807041299932294\n",
      "              precision    recall  f1-score   support\n",
      "\n",
      "           0       0.98      1.00      0.99     11816\n",
      "           1       0.90      0.59      0.71       684\n",
      "\n",
      "    accuracy                           0.97     12500\n",
      "   macro avg       0.94      0.79      0.85     12500\n",
      "weighted avg       0.97      0.97      0.97     12500\n",
      "\n",
      "label: identity_hate\n",
      "Confusion matrix:\n",
      " [[12379     4]\n",
      " [   97    20]]\n",
      "Balanced accuracy: 0.5853085737201057\n",
      "AUC score: 0.9781158480988894\n",
      "              precision    recall  f1-score   support\n",
      "\n",
      "           0       0.99      1.00      1.00     12383\n",
      "           1       0.83      0.17      0.28       117\n",
      "\n",
      "    accuracy                           0.99     12500\n",
      "   macro avg       0.91      0.59      0.64     12500\n",
      "weighted avg       0.99      0.99      0.99     12500\n",
      "\n"
     ]
    }
   ],
   "source": [
    "for i in labels:\n",
    "    lr = LogisticRegression(\n",
    "        C=2, \n",
    "        random_state=42, \n",
    "        class_weight = None\n",
    "    )\n",
    "    lr.fit(X_train, y_train[i])\n",
    "    y_pred = lr.predict(X_test)\n",
    "    print(\"label:\", i)\n",
    "    print('Confusion matrix:\\n', confusion_matrix(y_test[i], y_pred))\n",
    "    print(\"Balanced accuracy:\", balanced_accuracy_score(y_test[i], y_pred))\n",
    "    y_pred_pro = lr.predict_proba(X_test)[:,1]\n",
    "    frp, trp, thres = roc_curve(y_test[i], y_pred_pro)\n",
    "    auc_val = auc(frp,trp)\n",
    "    print(\"AUC score:\", auc_val)\n",
    "    print(classification_report(y_test[i], y_pred))"
   ]
  },
  {
   "cell_type": "markdown",
   "id": "915802e3",
   "metadata": {},
   "source": [
    "The 'balanced' parameter does work to increase the balanced accuracy in labels with small proportion/ data, such as threat or identity hate, but the parameter also decreases the precision and recall of other labels. Therefore, we don't consider such approach, or only apply it to labels with increased performance."
   ]
  },
  {
   "cell_type": "markdown",
   "id": "6925eaf0",
   "metadata": {},
   "source": [
    "From the results above, balanced accuracy works better than AUC score since it accounts for class imbalance. Instead of printing out the results every time, we do a KFold and get the mean balanced accuracy. "
   ]
  },
  {
   "cell_type": "code",
   "execution_count": 126,
   "id": "bccc0e2c",
   "metadata": {},
   "outputs": [],
   "source": [
    "def parameter_tuning(label, name, clf, parameters, crossval=True):\n",
    "    print(\"---------  \", name, \"  ------------\")\n",
    "    start = time.time()\n",
    "    if crossval:\n",
    "        classifier = GridSearchCV(clf, \n",
    "                                  parameters, \n",
    "                                  cv=5,\n",
    "                                 scoring=\"balanced_accuracy\",\n",
    "                                 return_train_score=True)\n",
    "    else:\n",
    "        classifier=clf\n",
    "        \n",
    "    score_name = 'score'\n",
    "    \n",
    "    classifier.fit(X_train, y_train[label])\n",
    "    means = classifier.cv_results_[f'mean_test_{score_name}']\n",
    "    r = pd.DataFrame(means, columns = [f'mean_test_{score_name}'])\n",
    "    r['params'] = classifier.cv_results_['params']\n",
    "    r['classifier'] = name\n",
    "\n",
    "    print(f'Training time (CV = {crossval}): \\\n",
    "        {(time.time() - start)/len(means)}')\n",
    "    \n",
    "    return r.sort_values(by=[f'mean_test_{score_name}'], ascending=False)"
   ]
  },
  {
   "cell_type": "code",
   "execution_count": 123,
   "id": "2b7d6b38",
   "metadata": {},
   "outputs": [],
   "source": [
    "param = {\n",
    "    'C': [0.5,5,50], \n",
    "    'penalty':['l2', 'none'], \n",
    "    'class_weight': ['balanced', None]\n",
    "    }\n",
    "model = LogisticRegression()"
   ]
  },
  {
   "cell_type": "markdown",
   "id": "bae707e0",
   "metadata": {},
   "source": [
    "I realize since for each label, no matter what models we use, the scores are in proportion. To tackle the problem of class imbalance, we just need to focus on one label. Here I choose the one that occupies the least proportion among all labels, threat."
   ]
  },
  {
   "cell_type": "code",
   "execution_count": 130,
   "id": "1ba4ffaa",
   "metadata": {},
   "outputs": [
    {
     "name": "stdout",
     "output_type": "stream",
     "text": [
      "---------   Logistic Regression   ------------\n"
     ]
    },
    {
     "name": "stderr",
     "output_type": "stream",
     "text": [
      "/Users/ashleyxiao/opt/anaconda3/lib/python3.9/site-packages/sklearn/linear_model/_logistic.py:1322: UserWarning: Setting penalty='none' will ignore the C and l1_ratio parameters\n",
      "  warnings.warn(\n",
      "/Users/ashleyxiao/opt/anaconda3/lib/python3.9/site-packages/sklearn/linear_model/_logistic.py:1322: UserWarning: Setting penalty='none' will ignore the C and l1_ratio parameters\n",
      "  warnings.warn(\n",
      "/Users/ashleyxiao/opt/anaconda3/lib/python3.9/site-packages/sklearn/linear_model/_logistic.py:1322: UserWarning: Setting penalty='none' will ignore the C and l1_ratio parameters\n",
      "  warnings.warn(\n",
      "/Users/ashleyxiao/opt/anaconda3/lib/python3.9/site-packages/sklearn/linear_model/_logistic.py:1322: UserWarning: Setting penalty='none' will ignore the C and l1_ratio parameters\n",
      "  warnings.warn(\n",
      "/Users/ashleyxiao/opt/anaconda3/lib/python3.9/site-packages/sklearn/linear_model/_logistic.py:1322: UserWarning: Setting penalty='none' will ignore the C and l1_ratio parameters\n",
      "  warnings.warn(\n",
      "/Users/ashleyxiao/opt/anaconda3/lib/python3.9/site-packages/sklearn/linear_model/_logistic.py:1322: UserWarning: Setting penalty='none' will ignore the C and l1_ratio parameters\n",
      "  warnings.warn(\n",
      "/Users/ashleyxiao/opt/anaconda3/lib/python3.9/site-packages/sklearn/linear_model/_logistic.py:1322: UserWarning: Setting penalty='none' will ignore the C and l1_ratio parameters\n",
      "  warnings.warn(\n",
      "/Users/ashleyxiao/opt/anaconda3/lib/python3.9/site-packages/sklearn/linear_model/_logistic.py:1322: UserWarning: Setting penalty='none' will ignore the C and l1_ratio parameters\n",
      "  warnings.warn(\n",
      "/Users/ashleyxiao/opt/anaconda3/lib/python3.9/site-packages/sklearn/linear_model/_logistic.py:1322: UserWarning: Setting penalty='none' will ignore the C and l1_ratio parameters\n",
      "  warnings.warn(\n",
      "/Users/ashleyxiao/opt/anaconda3/lib/python3.9/site-packages/sklearn/linear_model/_logistic.py:1322: UserWarning: Setting penalty='none' will ignore the C and l1_ratio parameters\n",
      "  warnings.warn(\n",
      "/Users/ashleyxiao/opt/anaconda3/lib/python3.9/site-packages/sklearn/linear_model/_logistic.py:1322: UserWarning: Setting penalty='none' will ignore the C and l1_ratio parameters\n",
      "  warnings.warn(\n",
      "/Users/ashleyxiao/opt/anaconda3/lib/python3.9/site-packages/sklearn/linear_model/_logistic.py:1322: UserWarning: Setting penalty='none' will ignore the C and l1_ratio parameters\n",
      "  warnings.warn(\n",
      "/Users/ashleyxiao/opt/anaconda3/lib/python3.9/site-packages/sklearn/linear_model/_logistic.py:1322: UserWarning: Setting penalty='none' will ignore the C and l1_ratio parameters\n",
      "  warnings.warn(\n",
      "/Users/ashleyxiao/opt/anaconda3/lib/python3.9/site-packages/sklearn/linear_model/_logistic.py:1322: UserWarning: Setting penalty='none' will ignore the C and l1_ratio parameters\n",
      "  warnings.warn(\n",
      "/Users/ashleyxiao/opt/anaconda3/lib/python3.9/site-packages/sklearn/linear_model/_logistic.py:1322: UserWarning: Setting penalty='none' will ignore the C and l1_ratio parameters\n",
      "  warnings.warn(\n",
      "/Users/ashleyxiao/opt/anaconda3/lib/python3.9/site-packages/sklearn/linear_model/_logistic.py:1322: UserWarning: Setting penalty='none' will ignore the C and l1_ratio parameters\n",
      "  warnings.warn(\n",
      "/Users/ashleyxiao/opt/anaconda3/lib/python3.9/site-packages/sklearn/linear_model/_logistic.py:1322: UserWarning: Setting penalty='none' will ignore the C and l1_ratio parameters\n",
      "  warnings.warn(\n",
      "/Users/ashleyxiao/opt/anaconda3/lib/python3.9/site-packages/sklearn/linear_model/_logistic.py:1322: UserWarning: Setting penalty='none' will ignore the C and l1_ratio parameters\n",
      "  warnings.warn(\n",
      "/Users/ashleyxiao/opt/anaconda3/lib/python3.9/site-packages/sklearn/linear_model/_logistic.py:1322: UserWarning: Setting penalty='none' will ignore the C and l1_ratio parameters\n",
      "  warnings.warn(\n",
      "/Users/ashleyxiao/opt/anaconda3/lib/python3.9/site-packages/sklearn/linear_model/_logistic.py:1322: UserWarning: Setting penalty='none' will ignore the C and l1_ratio parameters\n",
      "  warnings.warn(\n",
      "/Users/ashleyxiao/opt/anaconda3/lib/python3.9/site-packages/sklearn/linear_model/_logistic.py:1322: UserWarning: Setting penalty='none' will ignore the C and l1_ratio parameters\n",
      "  warnings.warn(\n",
      "/Users/ashleyxiao/opt/anaconda3/lib/python3.9/site-packages/sklearn/linear_model/_logistic.py:1322: UserWarning: Setting penalty='none' will ignore the C and l1_ratio parameters\n",
      "  warnings.warn(\n",
      "/Users/ashleyxiao/opt/anaconda3/lib/python3.9/site-packages/sklearn/linear_model/_logistic.py:1322: UserWarning: Setting penalty='none' will ignore the C and l1_ratio parameters\n",
      "  warnings.warn(\n",
      "/Users/ashleyxiao/opt/anaconda3/lib/python3.9/site-packages/sklearn/linear_model/_logistic.py:1322: UserWarning: Setting penalty='none' will ignore the C and l1_ratio parameters\n",
      "  warnings.warn(\n",
      "/Users/ashleyxiao/opt/anaconda3/lib/python3.9/site-packages/sklearn/linear_model/_logistic.py:1322: UserWarning: Setting penalty='none' will ignore the C and l1_ratio parameters\n",
      "  warnings.warn(\n",
      "/Users/ashleyxiao/opt/anaconda3/lib/python3.9/site-packages/sklearn/linear_model/_logistic.py:1322: UserWarning: Setting penalty='none' will ignore the C and l1_ratio parameters\n",
      "  warnings.warn(\n",
      "/Users/ashleyxiao/opt/anaconda3/lib/python3.9/site-packages/sklearn/linear_model/_logistic.py:1322: UserWarning: Setting penalty='none' will ignore the C and l1_ratio parameters\n",
      "  warnings.warn(\n",
      "/Users/ashleyxiao/opt/anaconda3/lib/python3.9/site-packages/sklearn/linear_model/_logistic.py:1322: UserWarning: Setting penalty='none' will ignore the C and l1_ratio parameters\n",
      "  warnings.warn(\n",
      "/Users/ashleyxiao/opt/anaconda3/lib/python3.9/site-packages/sklearn/linear_model/_logistic.py:1322: UserWarning: Setting penalty='none' will ignore the C and l1_ratio parameters\n",
      "  warnings.warn(\n",
      "/Users/ashleyxiao/opt/anaconda3/lib/python3.9/site-packages/sklearn/linear_model/_logistic.py:1322: UserWarning: Setting penalty='none' will ignore the C and l1_ratio parameters\n",
      "  warnings.warn(\n"
     ]
    },
    {
     "name": "stdout",
     "output_type": "stream",
     "text": [
      "Training time (CV = True):         12.185172001520792\n"
     ]
    }
   ],
   "source": [
    "threat_lr = parameter_tuning(\n",
    "                 'threat', \n",
    "                 'Logistic Regression', \n",
    "                 model, \n",
    "                 param, \n",
    "                 True)"
   ]
  },
  {
   "cell_type": "code",
   "execution_count": 132,
   "id": "978cd141",
   "metadata": {},
   "outputs": [
    {
     "data": {
      "text/plain": [
       "{'C': 0.5, 'class_weight': 'balanced', 'penalty': 'l2'}"
      ]
     },
     "execution_count": 132,
     "metadata": {},
     "output_type": "execute_result"
    }
   ],
   "source": [
    "threat_lr['params'][0]"
   ]
  },
  {
   "cell_type": "code",
   "execution_count": 149,
   "id": "665c113f",
   "metadata": {},
   "outputs": [],
   "source": [
    "lr_param = threat_lr['params'][0]"
   ]
  },
  {
   "cell_type": "code",
   "execution_count": null,
   "id": "1feec4eb",
   "metadata": {},
   "outputs": [],
   "source": [
    "# use it on every label\n",
    "clf = LogisticRegression()\n",
    "for label in labels:\n",
    "    model.fit(X_train, y_train[label])\n",
    "    y_pred = model.predict(X_test)\n",
    "    b = balanced_accuracy_score(y_pred, y_test[label])\n",
    "    a = roc_auc_score(y_test[label], y_pred, average='weighted')\n",
    "    \n",
    "    print(f'Balanced accuracy of \\'{label}\\': {b}')\n",
    "    print(f'roc_auc_score of \\'{label}\\': {a}')\n",
    "    print('\\n')"
   ]
  },
  {
   "cell_type": "code",
   "execution_count": null,
   "id": "5bd7c4bc",
   "metadata": {},
   "outputs": [],
   "source": []
  },
  {
   "cell_type": "markdown",
   "id": "e3cdf0c6",
   "metadata": {},
   "source": [
    "# SVD"
   ]
  },
  {
   "cell_type": "code",
   "execution_count": 140,
   "id": "479fb526",
   "metadata": {},
   "outputs": [],
   "source": [
    "from sklearn.decomposition import TruncatedSVD\n",
    "from sklearn.pipeline import Pipeline\n",
    "from sklearn.model_selection import cross_val_score"
   ]
  },
  {
   "cell_type": "code",
   "execution_count": 142,
   "id": "1f3edb88",
   "metadata": {},
   "outputs": [],
   "source": [
    "steps = [('svd', TruncatedSVD(n_components=10)), \n",
    "         ('lr', LogisticRegression(threat_lr['params'][0]))]\n",
    "model = Pipeline(steps=steps)"
   ]
  },
  {
   "cell_type": "code",
   "execution_count": 148,
   "id": "cdfff099",
   "metadata": {},
   "outputs": [
    {
     "name": "stdout",
     "output_type": "stream",
     "text": [
      "Balanced accuracy of 'toxic': 0.8872301617674163\n",
      "roc_auc_score of 'toxic': 0.6172915847853618\n",
      "\n",
      "\n",
      "Balanced accuracy of 'severe_toxic': 0.6719382603033192\n",
      "roc_auc_score of 'severe_toxic': 0.5471111111111112\n",
      "\n",
      "\n",
      "Balanced accuracy of 'obscene': 0.9476151539929136\n",
      "roc_auc_score of 'obscene': 0.6747235880803965\n",
      "\n",
      "\n"
     ]
    },
    {
     "name": "stderr",
     "output_type": "stream",
     "text": [
      "/Users/ashleyxiao/opt/anaconda3/lib/python3.9/site-packages/sklearn/metrics/_classification.py:1854: UserWarning: y_pred contains classes not in y_true\n",
      "  warnings.warn('y_pred contains classes not in y_true')\n"
     ]
    },
    {
     "name": "stdout",
     "output_type": "stream",
     "text": [
      "Balanced accuracy of 'threat': 0.99672\n",
      "roc_auc_score of 'threat': 0.5\n",
      "\n",
      "\n",
      "Balanced accuracy of 'insult': 0.9028201286272018\n",
      "roc_auc_score of 'insult': 0.6280318687714548\n",
      "\n",
      "\n",
      "Balanced accuracy of 'identity_hate': 0.99064\n",
      "roc_auc_score of 'identity_hate': 0.5\n",
      "\n",
      "\n"
     ]
    },
    {
     "name": "stderr",
     "output_type": "stream",
     "text": [
      "/Users/ashleyxiao/opt/anaconda3/lib/python3.9/site-packages/sklearn/metrics/_classification.py:1854: UserWarning: y_pred contains classes not in y_true\n",
      "  warnings.warn('y_pred contains classes not in y_true')\n"
     ]
    }
   ],
   "source": [
    "for label in labels:\n",
    "    model.fit(X_train, y_train[label])\n",
    "    y_pred = model.predict(X_test)\n",
    "    b = balanced_accuracy_score(y_pred, y_test[label])\n",
    "    a = roc_auc_score(y_test[label], y_pred, average='weighted')\n",
    "    \n",
    "    print(f'Balanced accuracy of \\'{label}\\': {b}')\n",
    "    print(f'roc_auc_score of \\'{label}\\': {a}')\n",
    "    print('\\n')"
   ]
  },
  {
   "cell_type": "code",
   "execution_count": null,
   "id": "4dcda2ad",
   "metadata": {},
   "outputs": [],
   "source": []
  },
  {
   "cell_type": "code",
   "execution_count": null,
   "id": "a7fcab47",
   "metadata": {},
   "outputs": [],
   "source": []
  },
  {
   "cell_type": "code",
   "execution_count": null,
   "id": "355294c8",
   "metadata": {},
   "outputs": [],
   "source": []
  },
  {
   "cell_type": "code",
   "execution_count": null,
   "id": "019d498f",
   "metadata": {},
   "outputs": [],
   "source": []
  },
  {
   "cell_type": "markdown",
   "id": "7cdbf3eb",
   "metadata": {},
   "source": [
    "# Hyperparameter tuning"
   ]
  },
  {
   "cell_type": "code",
   "execution_count": 114,
   "id": "6f9bad18",
   "metadata": {},
   "outputs": [],
   "source": [
    "classifiers = [\n",
    "    LogisticRegression(),\n",
    "#     SGDClassifier(loss='log'), # for logistic regression    \n",
    "    DecisionTreeClassifier(),\n",
    "    RandomForestClassifier(),\n",
    "    MultinomialNB(),\n",
    "    GaussianProcessClassifier(),\n",
    "    GradientBoostingClassifier()\n",
    "]"
   ]
  },
  {
   "cell_type": "code",
   "execution_count": 115,
   "id": "c25233ce",
   "metadata": {},
   "outputs": [],
   "source": [
    "names = [\n",
    "    \"Logistic Regression\",\n",
    "#     \"Logistic Regression with SGD\",\n",
    "    \"Decision Tree Classifier\",\n",
    "    \"Random Forest Classifier\",\n",
    "    \"Isolation Forest\",\n",
    "    \"MultinomialNB\",\n",
    "    \"Gaussian Process\",\n",
    "    \"Gradient Boosting\",    \n",
    "]\n",
    "\n",
    "parameters = {\n",
    "    \"Logistic Regression\": {\n",
    "        'C': [0.5,5,50], \n",
    "        'penalty':['l2', 'none'], \n",
    "        'max_iter': [800],\n",
    "        'class_weight': ['balanced', None]\n",
    "    },\n",
    "#     \"Logistic Regression with SGD\": {\n",
    "#         'penalty':['l1','l2', 'none'],\n",
    "#         'learning_rate' : ['constant','optimal','adaptive'],\n",
    "#         'eta0' : [0.1]\n",
    "#     },\n",
    "    \"Decision Tree Classifier\": {\n",
    "        \"max_features\" : ['sqrt', 'log2', None],\n",
    "        \"max_depth\":[5, 15, None],\n",
    "        \"min_samples_split\": [2,5,8],\n",
    "        'class_weight': ['balanced', None]\n",
    "    },\n",
    "    \"Random Forest Classifier\": {\n",
    "        \"n_estimators\":[50, 100, 150, 200],\n",
    "        \"max_features\" : ['sqrt','log2',None],\n",
    "        \"max_depth\":[8,15, None],\n",
    "        'class_weight': ['balanced', None]\n",
    "    },\n",
    "    \"Isolation Forest\": {\n",
    "        \"n_estimators\":[50, 100, 150, 200],\n",
    "        \"max_features\" : ['sqrt','log2',None],\n",
    "        \"max_depth\":[8,15,30,None]\n",
    "    },\n",
    "    \"MultinomialNB\": {\n",
    "        \"var_smoothing\" : [1e-8, 1e-9]\n",
    "    },\n",
    "    \"Gaussian Process\": {\n",
    "        \"n_restarts_optimizer\": [1, 2, 3]\n",
    "    },\n",
    "    \"Gradient Boosting\": {\n",
    "        \"max_features\" : ['sqrt','log2',None],\n",
    "        \"max_depth\":[5, 15, None],\n",
    "        \"learning_rate\":[1e-1,1e-3]\n",
    "    }\n",
    "}"
   ]
  },
  {
   "cell_type": "markdown",
   "id": "1fb5aca9",
   "metadata": {},
   "source": [
    "## Metric evaluation\n",
    "\n",
    "Toxic comment classification, false positive is equally worse than false negative.\n",
    "\n",
    "- Precision: the ability of the classifier not to label as positive a sample that is negative\n",
    "\n",
    "$ \\frac{tp}{tp + fp} $\n",
    "\n",
    "- Recall: the ability of the classifier to find all the positive samples\n",
    "\n",
    "$\\frac{tp}{tp + fn}$\n",
    "\n",
    "- F1 score: harmonic mean between precision and recall"
   ]
  },
  {
   "cell_type": "code",
   "execution_count": 85,
   "id": "36c06fa8",
   "metadata": {},
   "outputs": [
    {
     "data": {
      "text/plain": [
       "(119678, 60000)"
      ]
     },
     "execution_count": 85,
     "metadata": {},
     "output_type": "execute_result"
    }
   ],
   "source": [
    "X_train.shape"
   ]
  },
  {
   "cell_type": "code",
   "execution_count": null,
   "id": "579d22c2",
   "metadata": {},
   "outputs": [
    {
     "name": "stdout",
     "output_type": "stream",
     "text": [
      "---------   Logistic Regression   ------------\n"
     ]
    },
    {
     "name": "stderr",
     "output_type": "stream",
     "text": [
      "/Users/ashleyxiao/opt/anaconda3/lib/python3.9/site-packages/sklearn/linear_model/_logistic.py:1322: UserWarning: Setting penalty='none' will ignore the C and l1_ratio parameters\n",
      "  warnings.warn(\n",
      "/Users/ashleyxiao/opt/anaconda3/lib/python3.9/site-packages/sklearn/linear_model/_logistic.py:763: ConvergenceWarning: lbfgs failed to converge (status=1):\n",
      "STOP: TOTAL NO. of ITERATIONS REACHED LIMIT.\n",
      "\n",
      "Increase the number of iterations (max_iter) or scale the data as shown in:\n",
      "    https://scikit-learn.org/stable/modules/preprocessing.html\n",
      "Please also refer to the documentation for alternative solver options:\n",
      "    https://scikit-learn.org/stable/modules/linear_model.html#logistic-regression\n",
      "  n_iter_i = _check_optimize_result(\n",
      "/Users/ashleyxiao/opt/anaconda3/lib/python3.9/site-packages/sklearn/linear_model/_logistic.py:1322: UserWarning: Setting penalty='none' will ignore the C and l1_ratio parameters\n",
      "  warnings.warn(\n",
      "/Users/ashleyxiao/opt/anaconda3/lib/python3.9/site-packages/sklearn/linear_model/_logistic.py:1322: UserWarning: Setting penalty='none' will ignore the C and l1_ratio parameters\n",
      "  warnings.warn(\n",
      "/Users/ashleyxiao/opt/anaconda3/lib/python3.9/site-packages/sklearn/linear_model/_logistic.py:763: ConvergenceWarning: lbfgs failed to converge (status=1):\n",
      "STOP: TOTAL NO. of ITERATIONS REACHED LIMIT.\n",
      "\n",
      "Increase the number of iterations (max_iter) or scale the data as shown in:\n",
      "    https://scikit-learn.org/stable/modules/preprocessing.html\n",
      "Please also refer to the documentation for alternative solver options:\n",
      "    https://scikit-learn.org/stable/modules/linear_model.html#logistic-regression\n",
      "  n_iter_i = _check_optimize_result(\n",
      "/Users/ashleyxiao/opt/anaconda3/lib/python3.9/site-packages/sklearn/linear_model/_logistic.py:1322: UserWarning: Setting penalty='none' will ignore the C and l1_ratio parameters\n",
      "  warnings.warn(\n",
      "/Users/ashleyxiao/opt/anaconda3/lib/python3.9/site-packages/sklearn/linear_model/_logistic.py:1322: UserWarning: Setting penalty='none' will ignore the C and l1_ratio parameters\n",
      "  warnings.warn(\n",
      "/Users/ashleyxiao/opt/anaconda3/lib/python3.9/site-packages/sklearn/linear_model/_logistic.py:1322: UserWarning: Setting penalty='none' will ignore the C and l1_ratio parameters\n",
      "  warnings.warn(\n",
      "/Users/ashleyxiao/opt/anaconda3/lib/python3.9/site-packages/sklearn/linear_model/_logistic.py:1322: UserWarning: Setting penalty='none' will ignore the C and l1_ratio parameters\n",
      "  warnings.warn(\n",
      "/Users/ashleyxiao/opt/anaconda3/lib/python3.9/site-packages/sklearn/linear_model/_logistic.py:763: ConvergenceWarning: lbfgs failed to converge (status=1):\n",
      "STOP: TOTAL NO. of ITERATIONS REACHED LIMIT.\n",
      "\n",
      "Increase the number of iterations (max_iter) or scale the data as shown in:\n",
      "    https://scikit-learn.org/stable/modules/preprocessing.html\n",
      "Please also refer to the documentation for alternative solver options:\n",
      "    https://scikit-learn.org/stable/modules/linear_model.html#logistic-regression\n",
      "  n_iter_i = _check_optimize_result(\n",
      "/Users/ashleyxiao/opt/anaconda3/lib/python3.9/site-packages/sklearn/linear_model/_logistic.py:1322: UserWarning: Setting penalty='none' will ignore the C and l1_ratio parameters\n",
      "  warnings.warn(\n",
      "/Users/ashleyxiao/opt/anaconda3/lib/python3.9/site-packages/sklearn/linear_model/_logistic.py:1322: UserWarning: Setting penalty='none' will ignore the C and l1_ratio parameters\n",
      "  warnings.warn(\n",
      "/Users/ashleyxiao/opt/anaconda3/lib/python3.9/site-packages/sklearn/linear_model/_logistic.py:763: ConvergenceWarning: lbfgs failed to converge (status=1):\n",
      "STOP: TOTAL NO. of ITERATIONS REACHED LIMIT.\n",
      "\n",
      "Increase the number of iterations (max_iter) or scale the data as shown in:\n",
      "    https://scikit-learn.org/stable/modules/preprocessing.html\n",
      "Please also refer to the documentation for alternative solver options:\n",
      "    https://scikit-learn.org/stable/modules/linear_model.html#logistic-regression\n",
      "  n_iter_i = _check_optimize_result(\n",
      "/Users/ashleyxiao/opt/anaconda3/lib/python3.9/site-packages/sklearn/linear_model/_logistic.py:1322: UserWarning: Setting penalty='none' will ignore the C and l1_ratio parameters\n",
      "  warnings.warn(\n",
      "/Users/ashleyxiao/opt/anaconda3/lib/python3.9/site-packages/sklearn/linear_model/_logistic.py:1322: UserWarning: Setting penalty='none' will ignore the C and l1_ratio parameters\n",
      "  warnings.warn(\n",
      "/Users/ashleyxiao/opt/anaconda3/lib/python3.9/site-packages/sklearn/linear_model/_logistic.py:1322: UserWarning: Setting penalty='none' will ignore the C and l1_ratio parameters\n",
      "  warnings.warn(\n",
      "/Users/ashleyxiao/opt/anaconda3/lib/python3.9/site-packages/sklearn/linear_model/_logistic.py:1322: UserWarning: Setting penalty='none' will ignore the C and l1_ratio parameters\n",
      "  warnings.warn(\n",
      "/Users/ashleyxiao/opt/anaconda3/lib/python3.9/site-packages/sklearn/linear_model/_logistic.py:763: ConvergenceWarning: lbfgs failed to converge (status=1):\n",
      "STOP: TOTAL NO. of ITERATIONS REACHED LIMIT.\n",
      "\n",
      "Increase the number of iterations (max_iter) or scale the data as shown in:\n",
      "    https://scikit-learn.org/stable/modules/preprocessing.html\n",
      "Please also refer to the documentation for alternative solver options:\n",
      "    https://scikit-learn.org/stable/modules/linear_model.html#logistic-regression\n",
      "  n_iter_i = _check_optimize_result(\n",
      "/Users/ashleyxiao/opt/anaconda3/lib/python3.9/site-packages/sklearn/linear_model/_logistic.py:1322: UserWarning: Setting penalty='none' will ignore the C and l1_ratio parameters\n",
      "  warnings.warn(\n",
      "/Users/ashleyxiao/opt/anaconda3/lib/python3.9/site-packages/sklearn/linear_model/_logistic.py:1322: UserWarning: Setting penalty='none' will ignore the C and l1_ratio parameters\n",
      "  warnings.warn(\n",
      "/Users/ashleyxiao/opt/anaconda3/lib/python3.9/site-packages/sklearn/linear_model/_logistic.py:763: ConvergenceWarning: lbfgs failed to converge (status=1):\n",
      "STOP: TOTAL NO. of ITERATIONS REACHED LIMIT.\n",
      "\n",
      "Increase the number of iterations (max_iter) or scale the data as shown in:\n",
      "    https://scikit-learn.org/stable/modules/preprocessing.html\n",
      "Please also refer to the documentation for alternative solver options:\n",
      "    https://scikit-learn.org/stable/modules/linear_model.html#logistic-regression\n",
      "  n_iter_i = _check_optimize_result(\n",
      "/Users/ashleyxiao/opt/anaconda3/lib/python3.9/site-packages/sklearn/linear_model/_logistic.py:1322: UserWarning: Setting penalty='none' will ignore the C and l1_ratio parameters\n",
      "  warnings.warn(\n",
      "/Users/ashleyxiao/opt/anaconda3/lib/python3.9/site-packages/sklearn/linear_model/_logistic.py:1322: UserWarning: Setting penalty='none' will ignore the C and l1_ratio parameters\n",
      "  warnings.warn(\n",
      "/Users/ashleyxiao/opt/anaconda3/lib/python3.9/site-packages/sklearn/linear_model/_logistic.py:1322: UserWarning: Setting penalty='none' will ignore the C and l1_ratio parameters\n",
      "  warnings.warn(\n"
     ]
    },
    {
     "name": "stdout",
     "output_type": "stream",
     "text": [
      "Training time (CV = True):         112.42887540658315\n"
     ]
    },
    {
     "data": {
      "text/html": [
       "<div>\n",
       "<style scoped>\n",
       "    .dataframe tbody tr th:only-of-type {\n",
       "        vertical-align: middle;\n",
       "    }\n",
       "\n",
       "    .dataframe tbody tr th {\n",
       "        vertical-align: top;\n",
       "    }\n",
       "\n",
       "    .dataframe thead th {\n",
       "        text-align: right;\n",
       "    }\n",
       "</style>\n",
       "<table border=\"1\" class=\"dataframe\">\n",
       "  <thead>\n",
       "    <tr style=\"text-align: right;\">\n",
       "      <th></th>\n",
       "      <th>mean_test_Accuracy</th>\n",
       "      <th>std_test_Accuracy</th>\n",
       "      <th>params</th>\n",
       "      <th>classifier</th>\n",
       "    </tr>\n",
       "  </thead>\n",
       "  <tbody>\n",
       "    <tr>\n",
       "      <th>0</th>\n",
       "      <td>0.904800</td>\n",
       "      <td>0.002661</td>\n",
       "      <td>{'C': 0.5, 'class_weight': 'balanced', 'max_it...</td>\n",
       "      <td>Logistic Regression</td>\n",
       "    </tr>\n",
       "    <tr>\n",
       "      <th>4</th>\n",
       "      <td>0.890707</td>\n",
       "      <td>0.002434</td>\n",
       "      <td>{'C': 5, 'class_weight': 'balanced', 'max_iter...</td>\n",
       "      <td>Logistic Regression</td>\n",
       "    </tr>\n",
       "    <tr>\n",
       "      <th>8</th>\n",
       "      <td>0.869902</td>\n",
       "      <td>0.002406</td>\n",
       "      <td>{'C': 50, 'class_weight': 'balanced', 'max_ite...</td>\n",
       "      <td>Logistic Regression</td>\n",
       "    </tr>\n",
       "    <tr>\n",
       "      <th>10</th>\n",
       "      <td>0.844912</td>\n",
       "      <td>0.001201</td>\n",
       "      <td>{'C': 50, 'class_weight': None, 'max_iter': 80...</td>\n",
       "      <td>Logistic Regression</td>\n",
       "    </tr>\n",
       "    <tr>\n",
       "      <th>3</th>\n",
       "      <td>0.843124</td>\n",
       "      <td>0.003460</td>\n",
       "      <td>{'C': 0.5, 'class_weight': None, 'max_iter': 8...</td>\n",
       "      <td>Logistic Regression</td>\n",
       "    </tr>\n",
       "    <tr>\n",
       "      <th>7</th>\n",
       "      <td>0.843124</td>\n",
       "      <td>0.003460</td>\n",
       "      <td>{'C': 5, 'class_weight': None, 'max_iter': 800...</td>\n",
       "      <td>Logistic Regression</td>\n",
       "    </tr>\n",
       "    <tr>\n",
       "      <th>11</th>\n",
       "      <td>0.843124</td>\n",
       "      <td>0.003460</td>\n",
       "      <td>{'C': 50, 'class_weight': None, 'max_iter': 80...</td>\n",
       "      <td>Logistic Regression</td>\n",
       "    </tr>\n",
       "    <tr>\n",
       "      <th>1</th>\n",
       "      <td>0.841675</td>\n",
       "      <td>0.002628</td>\n",
       "      <td>{'C': 0.5, 'class_weight': 'balanced', 'max_it...</td>\n",
       "      <td>Logistic Regression</td>\n",
       "    </tr>\n",
       "    <tr>\n",
       "      <th>5</th>\n",
       "      <td>0.841675</td>\n",
       "      <td>0.002628</td>\n",
       "      <td>{'C': 5, 'class_weight': 'balanced', 'max_iter...</td>\n",
       "      <td>Logistic Regression</td>\n",
       "    </tr>\n",
       "    <tr>\n",
       "      <th>9</th>\n",
       "      <td>0.841675</td>\n",
       "      <td>0.002628</td>\n",
       "      <td>{'C': 50, 'class_weight': 'balanced', 'max_ite...</td>\n",
       "      <td>Logistic Regression</td>\n",
       "    </tr>\n",
       "    <tr>\n",
       "      <th>6</th>\n",
       "      <td>0.837088</td>\n",
       "      <td>0.001536</td>\n",
       "      <td>{'C': 5, 'class_weight': None, 'max_iter': 800...</td>\n",
       "      <td>Logistic Regression</td>\n",
       "    </tr>\n",
       "    <tr>\n",
       "      <th>2</th>\n",
       "      <td>0.793661</td>\n",
       "      <td>0.003148</td>\n",
       "      <td>{'C': 0.5, 'class_weight': None, 'max_iter': 8...</td>\n",
       "      <td>Logistic Regression</td>\n",
       "    </tr>\n",
       "  </tbody>\n",
       "</table>\n",
       "</div>"
      ],
      "text/plain": [
       "    mean_test_Accuracy  std_test_Accuracy  \\\n",
       "0             0.904800           0.002661   \n",
       "4             0.890707           0.002434   \n",
       "8             0.869902           0.002406   \n",
       "10            0.844912           0.001201   \n",
       "3             0.843124           0.003460   \n",
       "7             0.843124           0.003460   \n",
       "11            0.843124           0.003460   \n",
       "1             0.841675           0.002628   \n",
       "5             0.841675           0.002628   \n",
       "9             0.841675           0.002628   \n",
       "6             0.837088           0.001536   \n",
       "2             0.793661           0.003148   \n",
       "\n",
       "                                               params           classifier  \n",
       "0   {'C': 0.5, 'class_weight': 'balanced', 'max_it...  Logistic Regression  \n",
       "4   {'C': 5, 'class_weight': 'balanced', 'max_iter...  Logistic Regression  \n",
       "8   {'C': 50, 'class_weight': 'balanced', 'max_ite...  Logistic Regression  \n",
       "10  {'C': 50, 'class_weight': None, 'max_iter': 80...  Logistic Regression  \n",
       "3   {'C': 0.5, 'class_weight': None, 'max_iter': 8...  Logistic Regression  \n",
       "7   {'C': 5, 'class_weight': None, 'max_iter': 800...  Logistic Regression  \n",
       "11  {'C': 50, 'class_weight': None, 'max_iter': 80...  Logistic Regression  \n",
       "1   {'C': 0.5, 'class_weight': 'balanced', 'max_it...  Logistic Regression  \n",
       "5   {'C': 5, 'class_weight': 'balanced', 'max_iter...  Logistic Regression  \n",
       "9   {'C': 50, 'class_weight': 'balanced', 'max_ite...  Logistic Regression  \n",
       "6   {'C': 5, 'class_weight': None, 'max_iter': 800...  Logistic Regression  \n",
       "2   {'C': 0.5, 'class_weight': None, 'max_iter': 8...  Logistic Regression  "
      ]
     },
     "metadata": {},
     "output_type": "display_data"
    },
    {
     "name": "stdout",
     "output_type": "stream",
     "text": [
      "---------   Decision Tree Classifier   ------------\n"
     ]
    }
   ],
   "source": [
    "results = pd.DataFrame()\n",
    "crossval= True\n",
    "scoring = {\"AUC\": \"roc_auc\",\n",
    "           \"Accuracy\": make_scorer(balanced_accuracy_score)}\n",
    "for name, clf in zip(names, classifiers):\n",
    "    print(\"---------  \", name, \"  ------------\")\n",
    "    start = time.time()\n",
    "    if crossval:\n",
    "        classifier = GridSearchCV(clf, \n",
    "                                  parameters[name], \n",
    "                                  cv=3,\n",
    "                                 scoring=scoring,\n",
    "                                 refit=\"Accuracy\",\n",
    "                                 return_train_score=True)\n",
    "    else:\n",
    "        classifier = clf\n",
    "    \n",
    "    score_name = 'Accuracy'\n",
    "\n",
    "    classifier.fit(X_train, y_train['toxic'])\n",
    "    means = classifier.cv_results_[f'mean_test_{score_name}']\n",
    "    stds = classifier.cv_results_[f'std_test_{score_name}']\n",
    "    r = pd.DataFrame(means, columns = [f'mean_test_{score_name}'])\n",
    "    r[f'std_test_{score_name}'] = stds\n",
    "    r['params'] = classifier.cv_results_['params']\n",
    "    r['classifier'] = name\n",
    "\n",
    "    print(f'Training time (CV = {crossval}): \\\n",
    "        {(time.time() - start)/len(means)}')\n",
    "    display(r.sort_values(by=[f'mean_test_{score_name}', f'std_test_{score_name}'],\n",
    "                         ascending=False))\n",
    "    results = pd.concat([results, r], ignore_index=True)\n",
    "results_sorted = results.sort_values(by=[f'mean_test_{score_name}', \n",
    "                                         f'std_test_{score_name}'],\n",
    "                                     ascending=False)"
   ]
  },
  {
   "cell_type": "code",
   "execution_count": null,
   "id": "ed6b8032",
   "metadata": {},
   "outputs": [],
   "source": []
  }
 ],
 "metadata": {
  "kernelspec": {
   "display_name": "Python 3 (ipykernel)",
   "language": "python",
   "name": "python3"
  },
  "language_info": {
   "codemirror_mode": {
    "name": "ipython",
    "version": 3
   },
   "file_extension": ".py",
   "mimetype": "text/x-python",
   "name": "python",
   "nbconvert_exporter": "python",
   "pygments_lexer": "ipython3",
   "version": "3.9.7"
  }
 },
 "nbformat": 4,
 "nbformat_minor": 5
}
